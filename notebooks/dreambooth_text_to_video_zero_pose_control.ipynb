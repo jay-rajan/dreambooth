{
 "cells": [
  {
   "cell_type": "code",
   "execution_count": 1,
   "metadata": {},
   "outputs": [
    {
     "name": "stderr",
     "output_type": "stream",
     "text": [
      "/home/jrajan/micromamba/envs/diffusers/lib/python3.11/site-packages/tqdm/auto.py:21: TqdmWarning: IProgress not found. Please update jupyter and ipywidgets. See https://ipywidgets.readthedocs.io/en/stable/user_install.html\n",
      "  from .autonotebook import tqdm as notebook_tqdm\n"
     ]
    }
   ],
   "source": [
    "from huggingface_hub import hf_hub_download\n",
    "\n",
    "filename = \"__assets__/poses_skeleton_gifs/dance1_corr.mp4\"\n",
    "repo_id = \"PAIR/Text2Video-Zero\"\n",
    "video_path = hf_hub_download(repo_type=\"space\", repo_id=repo_id, filename=filename)\n",
    "\n",
    "from PIL import Image\n",
    "import imageio\n",
    "\n",
    "reader = imageio.get_reader(video_path, \"ffmpeg\")\n",
    "frame_count = 8\n",
    "canny_edges = [Image.fromarray(reader.get_data(i)) for i in range(frame_count)]\n",
    "\n"
   ]
  },
  {
   "cell_type": "code",
   "execution_count": 2,
   "metadata": {},
   "outputs": [
    {
     "name": "stderr",
     "output_type": "stream",
     "text": [
      "The config attributes {'image_encoder': [None, None]} were passed to StableDiffusionControlNetPipeline, but are not expected and will be ignored. Please verify your model_index.json configuration file.\n",
      "Keyword arguments {'image_encoder': [None, None]} are not expected by StableDiffusionControlNetPipeline and will be ignored.\n",
      "Loading pipeline components...: 100%|███████████████████████████████████████████████████████████████████████████████████████████████████████████████████████████████████████████████████████████████████████| 7/7 [00:09<00:00,  1.29s/it]\n"
     ]
    }
   ],
   "source": [
    "import torch\n",
    "from diffusers import StableDiffusionControlNetPipeline, ControlNetModel\n",
    "from diffusers.pipelines.text_to_video_synthesis.pipeline_text_to_video_zero import CrossFrameAttnProcessor\n",
    "\n",
    "#model_id = \"/home/jrajan/dreambooth/models/pointling\"\n",
    "model_id = \"/home/jrajan/dreambooth/models/pointling1.5\"\n",
    "controlnet = ControlNetModel.from_pretrained(\"lllyasviel/sd-controlnet-canny\", torch_dtype=torch.float16)\n",
    "pipe = StableDiffusionControlNetPipeline.from_pretrained(\n",
    "    model_id, controlnet=controlnet, torch_dtype=torch.float16\n",
    ").to(\"cuda\")\n",
    "\n",
    "# Set the attention processor\n",
    "pipe.unet.set_attn_processor(CrossFrameAttnProcessor(batch_size=2))\n",
    "pipe.controlnet.set_attn_processor(CrossFrameAttnProcessor(batch_size=2))\n",
    "\n",
    "# fix latents for all frames\n",
    "latents = torch.randn((1, 4, 64, 64), device=\"cuda\", dtype=torch.float16).repeat(len(canny_edges), 1, 1, 1)\n",
    "\n",
    "\n",
    "\n"
   ]
  },
  {
   "cell_type": "code",
   "execution_count": 3,
   "metadata": {},
   "outputs": [
    {
     "name": "stderr",
     "output_type": "stream",
     "text": [
      "100%|█████████████████████████████████████████████████████████████████████████████████████████████████████████████████████████████████████████████████████████████████████████████████████████████████████| 50/50 [00:37<00:00,  1.33it/s]\n"
     ]
    }
   ],
   "source": [
    "prompt = \"A pntlng animation playing guitar\"\n",
    "result = pipe(prompt=[prompt] * len(canny_edges), image=canny_edges, latents=latents).images\n",
    "imageio.mimsave(\"video1.mp4\", result, fps=4)\n"
   ]
  },
  {
   "cell_type": "code",
   "execution_count": 9,
   "metadata": {},
   "outputs": [
    {
     "ename": "NameError",
     "evalue": "name 'generate_video' is not defined",
     "output_type": "error",
     "traceback": [
      "\u001b[0;31m---------------------------------------------------------------------------\u001b[0m",
      "\u001b[0;31mNameError\u001b[0m                                 Traceback (most recent call last)",
      "Cell \u001b[0;32mIn[9], line 2\u001b[0m\n\u001b[1;32m      1\u001b[0m prompt \u001b[38;5;241m=\u001b[39m \u001b[38;5;124m\"\u001b[39m\u001b[38;5;124mAn image of a pntlng playing guitar\u001b[39m\u001b[38;5;124m\"\u001b[39m\n\u001b[0;32m----> 2\u001b[0m \u001b[43mgenerate_video\u001b[49m(prompt,\u001b[38;5;124m\"\u001b[39m\u001b[38;5;124mvideo3\u001b[39m\u001b[38;5;124m\"\u001b[39m)\n",
      "\u001b[0;31mNameError\u001b[0m: name 'generate_video' is not defined"
     ]
    }
   ],
   "source": [
    "prompt = \"An image of a pntlng playing guitar\"\n",
    "generate_video(prompt,\"video3\")\n"
   ]
  },
  {
   "cell_type": "code",
   "execution_count": null,
   "metadata": {},
   "outputs": [
    {
     "name": "stderr",
     "output_type": "stream",
     "text": [
      " 20%|███████████████████████████████████████▍                                                                                                                                                             | 10/50 [00:07<00:29,  1.37it/s]"
     ]
    }
   ],
   "source": [
    "prompt = \"An image of a pntlng animation character on a roller coaster\"\n",
    "result = pipe(prompt=[prompt] * len(canny_edges), image=canny_edges, latents=latents).images\n",
    "imageio.mimsave(\"video5_pose.mp4\", result, fps=4)"
   ]
  },
  {
   "cell_type": "code",
   "execution_count": 4,
   "metadata": {},
   "outputs": [
    {
     "name": "stderr",
     "output_type": "stream",
     "text": [
      "100%|█████████████████████████████████████████████████████████████████████████████████████████████████████████████████████████████████████████████████████████████████████████████████████████████████████| 50/50 [00:36<00:00,  1.36it/s]\n"
     ]
    }
   ],
   "source": [
    "prompt = \"An image of a pntlng animation character going to school\"\n",
    "result = pipe(prompt=[prompt] * len(canny_edges), image=canny_edges, latents=latents).images\n",
    "imageio.mimsave(\"video4_pose.mp4\", result, fps=4)\n"
   ]
  }
 ],
 "metadata": {
  "kernelspec": {
   "display_name": "Python 3 (ipykernel)",
   "language": "python",
   "name": "python3"
  },
  "language_info": {
   "codemirror_mode": {
    "name": "ipython",
    "version": 3
   },
   "file_extension": ".py",
   "mimetype": "text/x-python",
   "name": "python",
   "nbconvert_exporter": "python",
   "pygments_lexer": "ipython3",
   "version": "3.11.6"
  }
 },
 "nbformat": 4,
 "nbformat_minor": 4
}
