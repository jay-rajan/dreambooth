{
 "cells": [
  {
   "cell_type": "code",
   "execution_count": 10,
   "metadata": {},
   "outputs": [
    {
     "name": "stderr",
     "output_type": "stream",
     "text": [
      "The config attributes {'image_encoder': [None, None]} were passed to TextToVideoZeroPipeline, but are not expected and will be ignored. Please verify your model_index.json configuration file.\n",
      "Keyword arguments {'image_encoder': [None, None]} are not expected by TextToVideoZeroPipeline and will be ignored.\n",
      "Loading pipeline components...: 100%|███████████████████████████████████████████████████████████████████████████████████████████████████████████████████████████████████████████████████████████████████████| 7/7 [00:01<00:00,  5.52it/s]\n"
     ]
    }
   ],
   "source": [
    "import torch\n",
    "from diffusers import TextToVideoZeroPipeline\n",
    "import imageio\n",
    "\n",
    "model_id = \"/home/jrajan/dreambooth/models/pointling1.5\"\n",
    "pipe = TextToVideoZeroPipeline.from_pretrained(model_id, torch_dtype=torch.float16).to(\"cuda\")\n",
    "\n",
    "# prompt = \"A photo of a pntlng animation playing guitar on times square\"\n",
    "# result = pipe(prompt=prompt).images\n",
    "# result = [(r * 255).astype(\"uint8\") for r in result]\n",
    "# imageio.mimsave(\"video.mp4\", result, fps=4)\n",
    "\n",
    "\n",
    "\n"
   ]
  },
  {
   "cell_type": "code",
   "execution_count": 11,
   "metadata": {},
   "outputs": [
    {
     "name": "stderr",
     "output_type": "stream",
     "text": [
      "100%|███████████████████████████████████████████████████████████████████████████████████████████████████████████████████████████████████████████████████████████████████████████████████████████████████████| 2/2 [00:00<00:00, 11.30it/s]\n",
      "100%|███████████████████████████████████████████████████████████████████████████████████████████████████████████████████████████████████████████████████████████████████████████████████████████████████████| 3/3 [00:00<00:00, 17.00it/s]\n",
      "100%|█████████████████████████████████████████████████████████████████████████████████████████████████████████████████████████████████████████████████████████████████████████████████████████████████████| 48/48 [00:16<00:00,  2.90it/s]\n",
      "Potential NSFW content was detected in one or more images. A black image will be returned instead. Try again with a different prompt and/or seed.\n"
     ]
    }
   ],
   "source": [
    "prompt = \"An video of a pntlng animation playing in the snow\"\n",
    "result = pipe(prompt=prompt).images\n",
    "result = [(r * 255).astype(\"uint8\") for r in result]\n",
    "imageio.mimsave(\"video.mp4\", result, fps=4)"
   ]
  },
  {
   "cell_type": "code",
   "execution_count": 12,
   "metadata": {},
   "outputs": [
    {
     "name": "stderr",
     "output_type": "stream",
     "text": [
      "The config attributes {'image_encoder': [None, None]} were passed to TextToVideoZeroPipeline, but are not expected and will be ignored. Please verify your model_index.json configuration file.\n",
      "Keyword arguments {'image_encoder': [None, None]} are not expected by TextToVideoZeroPipeline and will be ignored.\n",
      "Loading pipeline components...: 100%|███████████████████████████████████████████████████████████████████████████████████████████████████████████████████████████████████████████████████████████████████████| 7/7 [00:07<00:00,  1.06s/it]\n"
     ]
    }
   ],
   "source": [
    "import torch\n",
    "from diffusers import TextToVideoZeroPipeline\n",
    "import numpy as np\n",
    "\n",
    "\n",
    "model_id = \"/home/jrajan/dreambooth/models/pointling1.5\"\n",
    "pipe = TextToVideoZeroPipeline.from_pretrained(model_id, torch_dtype=torch.float16).to(\"cuda\")\n",
    "\n",
    "def generate_video(prompt, video_name):\n",
    "    seed = 0\n",
    "    video_length = 24  #24 ÷ 4fps = 6 seconds\n",
    "    chunk_size = 8\n",
    "    \n",
    "    # Generate the video chunk-by-chunk\n",
    "    result = []\n",
    "    chunk_ids = np.arange(0, video_length, chunk_size - 1)\n",
    "    generator = torch.Generator(device=\"cuda\")\n",
    "    for i in range(len(chunk_ids)):\n",
    "        print(f\"Processing chunk {i + 1} / {len(chunk_ids)}\")\n",
    "        ch_start = chunk_ids[i]\n",
    "        ch_end = video_length if i == len(chunk_ids) - 1 else chunk_ids[i + 1]\n",
    "        # Attach the first frame for Cross Frame Attention\n",
    "        frame_ids = [0] + list(range(ch_start, ch_end))\n",
    "        # Fix the seed for the temporal consistency\n",
    "        generator.manual_seed(seed)\n",
    "        output = pipe(prompt=prompt, video_length=len(frame_ids), generator=generator, frame_ids=frame_ids)\n",
    "        result.append(output.images[1:])\n",
    "    \n",
    "    # Concatenate chunks and save\n",
    "    result = np.concatenate(result)\n",
    "    result = [(r * 255).astype(\"uint8\") for r in result]\n",
    "    imageio.mimsave(f\"{video_name}.mp4\", result, fps=4)"
   ]
  },
  {
   "cell_type": "code",
   "execution_count": 13,
   "metadata": {},
   "outputs": [
    {
     "name": "stderr",
     "output_type": "stream",
     "text": [
      "100%|███████████████████████████████████████████████████████████████████████████████████████████████████████████████████████████████████████████████████████████████████████████████████████████████████████| 2/2 [00:00<00:00, 11.08it/s]\n",
      "100%|███████████████████████████████████████████████████████████████████████████████████████████████████████████████████████████████████████████████████████████████████████████████████████████████████████| 3/3 [00:00<00:00, 16.99it/s]\n",
      "100%|█████████████████████████████████████████████████████████████████████████████████████████████████████████████████████████████████████████████████████████████████████████████████████████████████████| 48/48 [00:16<00:00,  2.90it/s]\n",
      "Potential NSFW content was detected in one or more images. A black image will be returned instead. Try again with a different prompt and/or seed.\n"
     ]
    }
   ],
   "source": [
    "\n",
    "prompt = \"An image of a pntlng animation character picture swimming in the beach\"\n",
    "result = pipe(prompt=prompt).images\n",
    "result = [(r * 255).astype(\"uint8\") for r in result]\n",
    "imageio.mimsave(\"video1_t2vz.mp4\", result, fps=4)\n"
   ]
  },
  {
   "cell_type": "code",
   "execution_count": 14,
   "metadata": {},
   "outputs": [
    {
     "name": "stderr",
     "output_type": "stream",
     "text": [
      "100%|███████████████████████████████████████████████████████████████████████████████████████████████████████████████████████████████████████████████████████████████████████████████████████████████████████| 2/2 [00:00<00:00, 11.27it/s]\n",
      "100%|███████████████████████████████████████████████████████████████████████████████████████████████████████████████████████████████████████████████████████████████████████████████████████████████████████| 3/3 [00:00<00:00, 17.05it/s]\n",
      "100%|█████████████████████████████████████████████████████████████████████████████████████████████████████████████████████████████████████████████████████████████████████████████████████████████████████| 48/48 [00:16<00:00,  2.90it/s]\n",
      "Potential NSFW content was detected in one or more images. A black image will be returned instead. Try again with a different prompt and/or seed.\n"
     ]
    }
   ],
   "source": [
    "prompt = \"An image of a pntlng animation character playing in snow\"\n",
    "result = pipe(prompt=prompt).images\n",
    "result = [(r * 255).astype(\"uint8\") for r in result]\n",
    "imageio.mimsave(\"video2_t2vz.mp4\", result, fps=4)\n"
   ]
  },
  {
   "cell_type": "code",
   "execution_count": 19,
   "metadata": {},
   "outputs": [
    {
     "name": "stderr",
     "output_type": "stream",
     "text": [
      "100%|███████████████████████████████████████████████████████████████████████████████████████████████████████████████████████████████████████████████████████████████████████████████████████████████████████| 2/2 [00:00<00:00, 11.29it/s]\n",
      "100%|███████████████████████████████████████████████████████████████████████████████████████████████████████████████████████████████████████████████████████████████████████████████████████████████████████| 3/3 [00:00<00:00, 17.00it/s]\n",
      "100%|█████████████████████████████████████████████████████████████████████████████████████████████████████████████████████████████████████████████████████████████████████████████████████████████████████| 48/48 [00:16<00:00,  2.90it/s]\n"
     ]
    }
   ],
   "source": [
    "prompt = \"An image of a pntlng animation character playing guitar\"\n",
    "result = pipe(prompt=prompt).images\n",
    "result = [(r * 255).astype(\"uint8\") for r in result]\n",
    "imageio.mimsave(\"video3_t2vz.mp4\", result, fps=4)\n"
   ]
  },
  {
   "cell_type": "code",
   "execution_count": 16,
   "metadata": {},
   "outputs": [
    {
     "name": "stderr",
     "output_type": "stream",
     "text": [
      "100%|███████████████████████████████████████████████████████████████████████████████████████████████████████████████████████████████████████████████████████████████████████████████████████████████████████| 2/2 [00:00<00:00, 11.29it/s]\n",
      "100%|███████████████████████████████████████████████████████████████████████████████████████████████████████████████████████████████████████████████████████████████████████████████████████████████████████| 3/3 [00:00<00:00, 17.01it/s]\n",
      "100%|█████████████████████████████████████████████████████████████████████████████████████████████████████████████████████████████████████████████████████████████████████████████████████████████████████| 48/48 [00:16<00:00,  2.90it/s]\n",
      "Potential NSFW content was detected in one or more images. A black image will be returned instead. Try again with a different prompt and/or seed.\n"
     ]
    }
   ],
   "source": [
    "prompt = \"An image of a pntlng animation going to school\"\n",
    "result = pipe(prompt=prompt).images\n",
    "result = [(r * 255).astype(\"uint8\") for r in result]\n",
    "imageio.mimsave(\"video4_t2vz.mp4\", result, fps=4)\n"
   ]
  },
  {
   "cell_type": "code",
   "execution_count": 18,
   "metadata": {},
   "outputs": [
    {
     "name": "stderr",
     "output_type": "stream",
     "text": [
      "100%|███████████████████████████████████████████████████████████████████████████████████████████████████████████████████████████████████████████████████████████████████████████████████████████████████████| 2/2 [00:00<00:00, 11.27it/s]\n",
      "100%|███████████████████████████████████████████████████████████████████████████████████████████████████████████████████████████████████████████████████████████████████████████████████████████████████████| 3/3 [00:00<00:00, 16.94it/s]\n",
      "100%|█████████████████████████████████████████████████████████████████████████████████████████████████████████████████████████████████████████████████████████████████████████████████████████████████████| 48/48 [00:16<00:00,  2.90it/s]\n"
     ]
    }
   ],
   "source": [
    "prompt = \"An image of a pntlng animation on a roller coaster\"\n",
    "result = pipe(prompt=prompt).images\n",
    "result = [(r * 255).astype(\"uint8\") for r in result]\n",
    "imageio.mimsave(\"video5_t2vz.mp4\", result, fps=4)"
   ]
  }
 ],
 "metadata": {
  "kernelspec": {
   "display_name": "Python 3 (ipykernel)",
   "language": "python",
   "name": "python3"
  },
  "language_info": {
   "codemirror_mode": {
    "name": "ipython",
    "version": 3
   },
   "file_extension": ".py",
   "mimetype": "text/x-python",
   "name": "python",
   "nbconvert_exporter": "python",
   "pygments_lexer": "ipython3",
   "version": "3.11.6"
  }
 },
 "nbformat": 4,
 "nbformat_minor": 4
}
