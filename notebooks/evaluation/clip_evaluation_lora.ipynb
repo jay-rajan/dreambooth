{
 "cells": [
  {
   "cell_type": "code",
   "execution_count": 1,
   "id": "b2373937-71cb-420b-8032-0950e51161b2",
   "metadata": {},
   "outputs": [
    {
     "name": "stderr",
     "output_type": "stream",
     "text": [
      "/home/jrajan/micromamba/envs/diffusers/lib/python3.11/site-packages/tqdm/auto.py:21: TqdmWarning: IProgress not found. Please update jupyter and ipywidgets. See https://ipywidgets.readthedocs.io/en/stable/user_install.html\n",
      "  from .autonotebook import tqdm as notebook_tqdm\n"
     ]
    }
   ],
   "source": [
    "prompts = [\n",
    "    \"An image of a pointling animation character swimming at the beach\",\n",
    "    \"An image of a pointling animation character playing in snow\",\n",
    "    \"An image of a pointling animation character playing guitar\",\n",
    "    \"An image of a pointling animation character going to school\",\n",
    "    \"An image of a pointling animation character on a roller coaster\",\n",
    "    \"An image of a pointling animation character standing at a queue\",\n",
    "    \"An image of a pointling animation character yelling help\",\n",
    "    \"An image of a pointling animation character catcthing a plane\",\n",
    "    \"An image of a pointling animation character rolling down the hill\",\n",
    "    \"An image of a pointling animation character playing baseball\"\n",
    "]\n",
    "from diffusers.utils import load_image\n"
   ]
  },
  {
   "cell_type": "code",
   "execution_count": 2,
   "id": "ed98af4e-12bf-4d34-adc5-6a96091546cd",
   "metadata": {},
   "outputs": [
    {
     "name": "stderr",
     "output_type": "stream",
     "text": [
      "Loading pipeline components...: 100%|███████████████████████████████████████████████████████████████████████████████████████████████████████████████████████████████████████████████████████████████████████| 6/6 [00:20<00:00,  3.35s/it]\n"
     ]
    }
   ],
   "source": [
    "from diffusers import DiffusionPipeline, DPMSolverMultistepScheduler\n",
    "import torch\n",
    "\n",
    "\n",
    "pipe = DiffusionPipeline.from_pretrained(\"stabilityai/stable-diffusion-2-1\", torch_dtype=torch.float16)\n",
    "pipe.scheduler = DPMSolverMultistepScheduler.from_config(pipe.scheduler.config)\n",
    "pipe.to(\"cuda\")\n",
    "\n",
    "model_path = \"/home/jrajan/dreambooth/models/pointling_lora\"\n",
    "pipe.unet.load_attn_procs(model_path)\n",
    "\n",
    "\n"
   ]
  },
  {
   "cell_type": "code",
   "execution_count": 26,
   "id": "8802478f-d8ac-4adf-bb02-6be1cd52de35",
   "metadata": {},
   "outputs": [
    {
     "name": "stderr",
     "output_type": "stream",
     "text": [
      "100%|█████████████████████████████████████████████████████████████████████████████████████████████████████████████████████████████████████████████████████████████████████████████████████████████████████| 10/10 [00:04<00:00,  2.44it/s]\n"
     ]
    },
    {
     "name": "stdout",
     "output_type": "stream",
     "text": [
      "(10, 512, 512, 3)\n",
      "CLIP score: 29.8286\n"
     ]
    }
   ],
   "source": [
    "images = pipe(prompts, num_inference_steps=10, guidance_scale=10, width=512, height=512,  output_type=\"np\").images\n",
    "print(images.shape)\n",
    "\n",
    "from torchmetrics.functional.multimodal import clip_score\n",
    "from functools import partial\n",
    "\n",
    "clip_score_fn = partial(clip_score, model_name_or_path=\"openai/clip-vit-base-patch16\")\n",
    "\n",
    "def calculate_clip_score(images, prompts):\n",
    "    images_int = (images * 255).astype(\"uint8\")\n",
    "    clip_score = clip_score_fn(torch.from_numpy(images_int).permute(0, 3, 1, 2), prompts).detach()\n",
    "    return round(float(clip_score), 4)\n",
    "\n",
    "sd_clip_score = calculate_clip_score(images, prompts)\n",
    "print(f\"CLIP score: {sd_clip_score}\")"
   ]
  }
 ],
 "metadata": {
  "kernelspec": {
   "display_name": "Python 3 (ipykernel)",
   "language": "python",
   "name": "python3"
  },
  "language_info": {
   "codemirror_mode": {
    "name": "ipython",
    "version": 3
   },
   "file_extension": ".py",
   "mimetype": "text/x-python",
   "name": "python",
   "nbconvert_exporter": "python",
   "pygments_lexer": "ipython3",
   "version": "3.11.6"
  }
 },
 "nbformat": 4,
 "nbformat_minor": 5
}
