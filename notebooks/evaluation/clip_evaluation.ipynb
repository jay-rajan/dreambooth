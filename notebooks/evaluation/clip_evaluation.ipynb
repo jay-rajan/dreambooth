{
 "cells": [
  {
   "cell_type": "code",
   "execution_count": 20,
   "id": "b2373937-71cb-420b-8032-0950e51161b2",
   "metadata": {},
   "outputs": [],
   "source": [
    "prompts = [\n",
    "    \"An image of a pntlng animation character swimming at the beach\",\n",
    "    \"An image of a pntlng animation playing in snow\",\n",
    "    \"An image of a pntlng animation playing guitar\",\n",
    "    \"An image of a pntlng animation character going to school\",\n",
    "    \"An image of a pntlng animation character on a roller coaster\"\n",
    "]\n",
    "from diffusers.utils import load_image\n"
   ]
  },
  {
   "cell_type": "code",
   "execution_count": 21,
   "id": "ed98af4e-12bf-4d34-adc5-6a96091546cd",
   "metadata": {},
   "outputs": [
    {
     "name": "stderr",
     "output_type": "stream",
     "text": [
      "Loading pipeline components...: 100%|███████████████████████████████████████████████████████████████████████████████████████████████████████████████████████████████████████████████████████████████████████| 6/6 [00:00<00:00,  6.17it/s]\n"
     ]
    }
   ],
   "source": [
    "from diffusers import DiffusionPipeline\n",
    "import torch\n",
    "\n",
    "from diffusers import StableDiffusionPipeline\n",
    "import torch\n",
    "\n",
    "model_id = \"/home/jrajan/dreambooth/models/pointling\"\n",
    "pipe = StableDiffusionPipeline.from_pretrained(model_id, torch_dtype=torch.float16).to(\"cuda\")\n",
    "\n"
   ]
  },
  {
   "cell_type": "code",
   "execution_count": 22,
   "id": "8802478f-d8ac-4adf-bb02-6be1cd52de35",
   "metadata": {},
   "outputs": [
    {
     "name": "stderr",
     "output_type": "stream",
     "text": [
      "100%|█████████████████████████████████████████████████████████████████████████████████████████████████████████████████████████████████████████████████████████████████████████████████████████████████████| 50/50 [00:10<00:00,  4.94it/s]\n"
     ]
    },
    {
     "data": {
      "text/plain": [
       "(5, 512, 512, 3)"
      ]
     },
     "execution_count": 22,
     "metadata": {},
     "output_type": "execute_result"
    }
   ],
   "source": [
    "images = pipe(prompts, num_samples=30, num_inference_steps=50, guidance_scale=7.5, width=512, height=512,  output_type=\"np\").images\n",
    "images.shape"
   ]
  },
  {
   "cell_type": "code",
   "execution_count": 23,
   "id": "25b32623-c91e-4ea5-b3ad-9f95098e3182",
   "metadata": {},
   "outputs": [
    {
     "name": "stdout",
     "output_type": "stream",
     "text": [
      "CLIP score: 31.2293\n"
     ]
    }
   ],
   "source": [
    "from torchmetrics.functional.multimodal import clip_score\n",
    "from functools import partial\n",
    "\n",
    "clip_score_fn = partial(clip_score, model_name_or_path=\"openai/clip-vit-base-patch16\")\n",
    "\n",
    "def calculate_clip_score(images, prompts):\n",
    "    images_int = (images * 255).astype(\"uint8\")\n",
    "    clip_score = clip_score_fn(torch.from_numpy(images_int).permute(0, 3, 1, 2), prompts).detach()\n",
    "    return round(float(clip_score), 4)\n",
    "\n",
    "sd_clip_score = calculate_clip_score(images, prompts)\n",
    "print(f\"CLIP score: {sd_clip_score}\")"
   ]
  }
 ],
 "metadata": {
  "kernelspec": {
   "display_name": "Python 3 (ipykernel)",
   "language": "python",
   "name": "python3"
  },
  "language_info": {
   "codemirror_mode": {
    "name": "ipython",
    "version": 3
   },
   "file_extension": ".py",
   "mimetype": "text/x-python",
   "name": "python",
   "nbconvert_exporter": "python",
   "pygments_lexer": "ipython3",
   "version": "3.11.6"
  }
 },
 "nbformat": 4,
 "nbformat_minor": 5
}
